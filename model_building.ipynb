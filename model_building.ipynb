{
 "cells": [
  {
   "cell_type": "code",
   "execution_count": null,
   "metadata": {
    "collapsed": true
   },
   "outputs": [],
   "source": [
    "from torch import nn"
   ]
  },
  {
   "cell_type": "code",
   "execution_count": null,
   "outputs": [],
   "source": [
    "# build the model (start with a baseline model and increase the complexity or use an exisiting model architecture)\n",
    "class PytorchModel(nn.Module):\n",
    "  \"\"\"This is the Pytorch Model class. Since it inherits from nn.Module we have to override the forward() method\"\"\"\n",
    "\n",
    "  def __init__(self, input_shape:int,output_shape:int):\n",
    "    \"\"\"Constructor Initialization. Calls the super constructor and initializes our model.\"\"\"\n",
    "\n",
    "    # call the super constructor\n",
    "    super().__init__()\n",
    "\n",
    "    # create the model\n",
    "    self.layers = nn.Sequential(\n",
    "        nn.Flatten(),\n",
    "        nn.Linear(in_features=input_shape,\n",
    "                  out_features=output_shape)\n",
    "    )\n",
    "\n",
    "  def forward(self,X):\n",
    "    \"\"\"\n",
    "    This function is mandatory in each pytorch model and calculates the foward pass.\n",
    "\n",
    "    :param X: tensor: The X data\n",
    "    :return y: tensor: The y data (prediction)\n",
    "    \"\"\"\n",
    "    return self.layers(X)\n"
   ],
   "metadata": {
    "collapsed": false,
    "pycharm": {
     "name": "#%%\n"
    }
   }
  }
 ],
 "metadata": {
  "kernelspec": {
   "display_name": "Python 3",
   "language": "python",
   "name": "python3"
  },
  "language_info": {
   "codemirror_mode": {
    "name": "ipython",
    "version": 2
   },
   "file_extension": ".py",
   "mimetype": "text/x-python",
   "name": "python",
   "nbconvert_exporter": "python",
   "pygments_lexer": "ipython2",
   "version": "2.7.6"
  }
 },
 "nbformat": 4,
 "nbformat_minor": 0
}