{
  "nbformat": 4,
  "nbformat_minor": 0,
  "metadata": {
    "colab": {
      "provenance": [],
      "gpuType": "T4"
    },
    "kernelspec": {
      "name": "python3",
      "display_name": "Python 3"
    },
    "language_info": {
      "name": "python"
    },
    "accelerator": "GPU",
    "gpuClass": "standard"
  },
  "cells": [
    {
      "cell_type": "markdown",
      "source": [
        "### Import the needed Libraries\n",
        "\n",
        "#### Documentation: https://pytorch.org/docs/stable/index.html\n",
        "#### Youtube Tutorial: https://www.learnpytorch.io/"
      ],
      "metadata": {
        "id": "ijakQ0TfEhqP"
      }
    },
    {
      "cell_type": "code",
      "execution_count": null,
      "metadata": {
        "id": "LReEUhW0EeZP",
        "colab": {
          "base_uri": "https://localhost:8080/"
        },
        "outputId": "a09a79b2-6ab4-4e5d-d4cc-d437468708ed"
      },
      "outputs": [
        {
          "output_type": "stream",
          "name": "stdout",
          "text": [
            "Looking in indexes: https://pypi.org/simple, https://us-python.pkg.dev/colab-wheels/public/simple/\n",
            "Collecting torchinfo\n",
            "  Downloading torchinfo-1.8.0-py3-none-any.whl (23 kB)\n",
            "Installing collected packages: torchinfo\n",
            "Successfully installed torchinfo-1.8.0\n"
          ]
        }
      ],
      "source": [
        "# pytorch\n",
        "import torch\n",
        "from torch import nn\n",
        "from torch.utils.data import DataLoader\n",
        "\n",
        "# torchvision\n",
        "import torchvision\n",
        "from torchvision import transforms\n",
        "from torchvision.transforms import ToTensor\n",
        "from torchvision import datasets\n",
        "\n",
        "# torchinfo\n",
        "%pip install torchinfo\n",
        "from torchinfo import summary\n",
        "\n",
        "# standard data handling\n",
        "import pandas as pd\n",
        "import numpy as np\n",
        "\n",
        "# plotting\n",
        "import matplotlib.pyplot as plt\n",
        "import seaborn as sns\n",
        "\n",
        "# system\n",
        "from pathlib import Path\n",
        "from timeit import default_timer as timer\n",
        "import requests"
      ]
    },
    {
      "cell_type": "markdown",
      "source": [
        "### Check the available pytorch and Cuda (GPU) Version"
      ],
      "metadata": {
        "id": "3dBWIFpFFBHv"
      }
    },
    {
      "cell_type": "code",
      "source": [
        "# pytroch and cuda version\n",
        "print(f\" Pytorch and cuda version: {torch.__version__}\")\n",
        "\n",
        "# trochvision and cuda version\n",
        "print(f\" Torchvision and cuda version: {torchvision.__version__}\")"
      ],
      "metadata": {
        "id": "05sFxzsbE64c",
        "colab": {
          "base_uri": "https://localhost:8080/"
        },
        "outputId": "a37539d0-5e5c-4b59-b020-e0302868c48b"
      },
      "execution_count": null,
      "outputs": [
        {
          "output_type": "stream",
          "name": "stdout",
          "text": [
            " Pytorch and cuda version: 2.0.1+cu118\n",
            " Torchvision and cuda version: 0.15.2+cu118\n"
          ]
        }
      ]
    },
    {
      "cell_type": "markdown",
      "source": [
        "### Check the available device\n",
        "\n",
        "1. CPU (Default)\n",
        "2. Cuda (GPU acceleration is accessible)"
      ],
      "metadata": {
        "id": "gFA1DwgMFSQe"
      }
    },
    {
      "cell_type": "code",
      "source": [
        "# make device agnostic code (default is cpu)\n",
        "device = \"cuda\" if torch.cuda.is_available() else \"cpu\"\n",
        "print(f\"Available device is: {device}\")"
      ],
      "metadata": {
        "id": "hxrucJHYFTgV",
        "colab": {
          "base_uri": "https://localhost:8080/"
        },
        "outputId": "9bf29573-c407-4624-f89e-328924fce725"
      },
      "execution_count": null,
      "outputs": [
        {
          "output_type": "stream",
          "name": "stdout",
          "text": [
            "Available device is: cuda\n"
          ]
        }
      ]
    },
    {
      "cell_type": "markdown",
      "source": [
        "### Import Helper files"
      ],
      "metadata": {
        "id": "seOY5MvOxmRa"
      }
    },
    {
      "cell_type": "code",
      "source": [
        "# filenames\n",
        "filenames = {\"pytorch_helper_functions.py\": \"https://raw.githubusercontent.com/sl2000stat/PytorchIntroduction/master/pytorch_helper_functions.py\",\n",
        "             \"training.py\": \"https://raw.githubusercontent.com/sl2000stat/PytorchIntroduction/master/training.py\",\n",
        "             \"make_predictions.py\":\"https://raw.githubusercontent.com/sl2000stat/PytorchIntroduction/master/make_predictions.py\",\n",
        "             \"validation.py\":\"https://raw.githubusercontent.com/sl2000stat/PytorchIntroduction/master/validation.py\"}\n",
        "\n",
        "for filename, file_path in filenames.items():\n",
        "\n",
        "  # download helper functions from repo\n",
        "  if Path(filename).is_file():\n",
        "    print(f\"{filename} already exists. Skipping download\")\n",
        "\n",
        "  else:\n",
        "\n",
        "    request = requests.get(file_path)\n",
        "    with open(filename, \"wb\") as f:\n",
        "      f.write(request.content)\n",
        "\n",
        "    print(f\"Downloaded {filename}.\")"
      ],
      "metadata": {
        "colab": {
          "base_uri": "https://localhost:8080/"
        },
        "id": "9f5IN-Wgxm9u",
        "outputId": "9192cd06-9edf-4380-fdc3-f6d3d2c79b96"
      },
      "execution_count": null,
      "outputs": [
        {
          "output_type": "stream",
          "name": "stdout",
          "text": [
            "pytorch_helper_functions.py already exists. Skipping download\n",
            "training.py already exists. Skipping download\n",
            "make_predictions.py already exists. Skipping download\n",
            "Downloaded validation.py.\n"
          ]
        }
      ]
    },
    {
      "cell_type": "code",
      "source": [
        "# import functions from your own python scripts\n",
        "from pytorch_helper_functions import set_global_seed, print_train_time, save_model, load_model\n",
        "from training import training\n",
        "from make_predictions import make_predictions"
      ],
      "metadata": {
        "id": "GJdoMQiKzI7X"
      },
      "execution_count": null,
      "outputs": []
    },
    {
      "cell_type": "code",
      "source": [
        "# set the global seed\n",
        "set_global_seed(42)"
      ],
      "metadata": {
        "id": "aS-R9WlW3d4p"
      },
      "execution_count": null,
      "outputs": []
    },
    {
      "cell_type": "markdown",
      "source": [
        "### General Pytorch Workflow\n",
        "\n",
        "![](https://raw.githubusercontent.com/mrdbourke/pytorch-deep-learning/main/images/01_a_pytorch_workflow.png)\n",
        "\n",
        "1. **Getting data ready:** Data can be almost anything but to get started we're going to create a simple straight line\n",
        "2. **Building a model:**\tHere we'll create a model to learn patterns in the data, we'll also choose a loss function, optimizer and build a training loop.\n",
        "3. **Fitting the model to data (training):** We've got data and a model, now let's let the model (try to) find patterns in the (training) data.\n",
        "4. **Making predictions and evaluating a model (inference):**\tOur model's found patterns in the data, let's compare its findings to the actual (testing) data.\n",
        "5. **Tune the model:**\tFine tune the hyperparameter and select the optimal model.\n",
        "6. **Saving and loading a model:**\tYou may want to use your model elsewhere, or come back to it later, here we'll cover that.\n"
      ],
      "metadata": {
        "id": "Vv6MijmoFlZN"
      }
    },
    {
      "cell_type": "markdown",
      "source": [
        "### 1. Get the Data"
      ],
      "metadata": {
        "id": "ySooWdBJFl3I"
      }
    },
    {
      "cell_type": "markdown",
      "source": [],
      "metadata": {
        "id": "cCOzp7T9xZu4"
      }
    },
    {
      "cell_type": "code",
      "source": [
        "# How many samples are there?\n",
        "print(f\"Traning Samples {len(train_data)} | Validation Samples {len(val_data)}\")"
      ],
      "metadata": {
        "id": "gekrTYjRO_51",
        "colab": {
          "base_uri": "https://localhost:8080/",
          "height": 175
        },
        "outputId": "1099a6ca-85d8-4527-a0ab-aa773a20351d"
      },
      "execution_count": null,
      "outputs": [
        {
          "output_type": "error",
          "ename": "NameError",
          "evalue": "ignored",
          "traceback": [
            "\u001b[0;31m---------------------------------------------------------------------------\u001b[0m",
            "\u001b[0;31mNameError\u001b[0m                                 Traceback (most recent call last)",
            "\u001b[0;32m<ipython-input-7-95c87c2232d6>\u001b[0m in \u001b[0;36m<cell line: 2>\u001b[0;34m()\u001b[0m\n\u001b[1;32m      1\u001b[0m \u001b[0;31m# How many samples are there?\u001b[0m\u001b[0;34m\u001b[0m\u001b[0;34m\u001b[0m\u001b[0m\n\u001b[0;32m----> 2\u001b[0;31m \u001b[0mprint\u001b[0m\u001b[0;34m(\u001b[0m\u001b[0;34mf\"Traning Samples {len(train_data)} | Validation Samples {len(val_data)}\"\u001b[0m\u001b[0;34m)\u001b[0m\u001b[0;34m\u001b[0m\u001b[0;34m\u001b[0m\u001b[0m\n\u001b[0m",
            "\u001b[0;31mNameError\u001b[0m: name 'train_data' is not defined"
          ]
        }
      ]
    },
    {
      "cell_type": "code",
      "source": [
        "# classes\n",
        "class_names = train_data.classes\n",
        "print(f\"There are {len(class_names)} classes | {len(class_names)}\")"
      ],
      "metadata": {
        "id": "pHGMQH0KPlqL"
      },
      "execution_count": null,
      "outputs": []
    },
    {
      "cell_type": "markdown",
      "source": [
        "### 1.6 Create Mini Batches\n",
        "\n",
        "The DataLoader turns our data into a python iterable and allows us to divide the data into mini batches. (https://pytorch.org/tutorials/beginner/basics/data_tutorial.html)"
      ],
      "metadata": {
        "id": "umipEEdyN2ze"
      }
    },
    {
      "cell_type": "code",
      "source": [
        "# batch size hyperparameter\n",
        "BATCH_SIZE = 32\n",
        "\n",
        "# construct mini batches for the train and test data\n",
        "train_dataloader = DataLoader(training_data, batch_size=BATCH_SIZE, shuffle=True)\n",
        "val_dataloader = DataLoader(val_data, batch_size=BATCH_SIZE, shuffle=True)\n",
        "\n",
        "# check the dimensions\n",
        "print(f\"Length of the train DataLoader: {len(train_dataloader)} batches of {BATCH_SIZE}. (Orignially {len(training_data)})\")\n",
        "print(f\"Length of the test DataLoader: {len(val_dataloader)} batches of {BATCH_SIZE}.  (Orignially {len(val_data)})\")"
      ],
      "metadata": {
        "id": "l7Fo2oV_N6iO"
      },
      "execution_count": null,
      "outputs": []
    },
    {
      "cell_type": "markdown",
      "source": [
        "### 2. Build and train your model\n",
        "\n",
        "1. Build your own model or use an existing architecture\n",
        "1. Pick a loss function and optimizer\n",
        "3. Train the model and compute the train and validation scores"
      ],
      "metadata": {
        "id": "iMptlblwLXir"
      }
    },
    {
      "cell_type": "markdown",
      "source": [
        "### 2.1 Build your own model or use an existing architecture\n",
        "\n",
        "1. Build the model\n",
        "2. Create a model instance\n",
        "3. Check the Dimensions"
      ],
      "metadata": {
        "id": "MVvMl5boNaiL"
      }
    },
    {
      "cell_type": "code",
      "source": [
        "# build the model (start with a baseline model and increase the complexity or use an exisiting model architecture)\n",
        "class PytorchModel(nn.Module):\n",
        "  \"\"\"This is the Pytorch Model class. Since it inherits from nn.Module we have to override the forward() method\"\"\"\n",
        "\n",
        "  def __init__(self, input_shape:int,output_shape:int):\n",
        "    \"\"\"Constructor Initialization. Calls the super constructor and initializes our model.\"\"\"\n",
        "\n",
        "    # call the super constructor\n",
        "    super().__init__()\n",
        "\n",
        "    # create the model\n",
        "    self.layers = nn.Sequential(\n",
        "\n",
        "        # flatten input shape\n",
        "        nn.Flatten(),\n",
        "\n",
        "        # simple linear layer\n",
        "        nn.Linear(in_features=input_shape,\n",
        "                  out_features=output_shape)\n",
        "    )\n",
        "\n",
        "  def forward(self,X:torch.Tensor):\n",
        "    \"\"\"\n",
        "    This function is mandatory in each pytorch model and calculates the foward pass.\n",
        "\n",
        "    :param X: tensor: The X data\n",
        "    :return y: tensor: The y data (prediction)\n",
        "    \"\"\"\n",
        "    return self.layers(X)\n"
      ],
      "metadata": {
        "id": "dh3e-gYDxR1O"
      },
      "execution_count": null,
      "outputs": []
    },
    {
      "cell_type": "code",
      "source": [
        "# Create a model instance\n",
        "model = \"\"\n",
        "\n",
        "# send the model to the right device\n",
        "model = model.to(device)\n",
        "\n",
        "# print the model\n",
        "summary(model(),input_size=[])"
      ],
      "metadata": {
        "id": "wAqXT0pjNme1"
      },
      "execution_count": null,
      "outputs": []
    },
    {
      "cell_type": "code",
      "source": [
        "# create a dummy tensor with the same dimensions as your data, add batch dimensiona nd send it to your device\n",
        "dummy_tensor = torch.randn(size=()).unsqueeze(0).to(device)\n",
        "\n",
        "# pass the data through your model\n",
        "X_dummy = model(dummy_tensor)"
      ],
      "metadata": {
        "id": "qkJ1JQkdiR2w"
      },
      "execution_count": null,
      "outputs": []
    },
    {
      "cell_type": "markdown",
      "source": [
        "### 2.2 Pick a loss function & optimizer\n",
        "\n",
        "1. Available loss functions: https://pytorch.org/docs/stable/nn.html#loss-functions\n",
        "2. Available optimizer: https://pytorch.org/docs/stable/optim.html#algorithms\n",
        "\n"
      ],
      "metadata": {
        "id": "9qsgtoGQKioq"
      }
    },
    {
      "cell_type": "code",
      "source": [
        "# set up a loss function\n",
        "loss_function = \"\"\n",
        "\n",
        "# learning rate\n",
        "LEARNING_RATE = \"\"\n",
        "\n",
        "# setup an optimizer\n",
        "optimizer = \"\""
      ],
      "metadata": {
        "id": "Zt1WozOmKixD"
      },
      "execution_count": null,
      "outputs": []
    },
    {
      "cell_type": "markdown",
      "source": [
        "### 2.3 Trainging and Validation Loop"
      ],
      "metadata": {
        "id": "IoQqXKzBw-j7"
      }
    },
    {
      "cell_type": "code",
      "source": [
        "# number of epochs\n",
        "EPOCHS = 3\n",
        "\n",
        "# timing\n",
        "train_time_start = timer()\n",
        "\n",
        "# train and valudation loop\n",
        "df_scores = training(EPOCHs=EPOCHS, model=\"\", train_dataloader=\"\",\n",
        "             val_dataloader=\"\", loss_function=loss_function\n",
        "             optimizer=optimizer, device=device)\n",
        "\n",
        "# calculate the training time\n",
        "train_time_end = timer()\n",
        "total_train_time = print_train_time(train_time_start, train_time_end, device=str(next(model.parameters()).device))"
      ],
      "metadata": {
        "id": "DN3Yo5J5y-eB"
      },
      "execution_count": null,
      "outputs": []
    },
    {
      "cell_type": "markdown",
      "source": [
        "### 3. Model Evaluation\n",
        "\n",
        "Depending on the loss function and model task there exist different evaluation methods\n",
        "\n",
        "1. Regression\n",
        "2. Classification\n",
        "3. Image/Video Classification/Detection\n",
        "4. Text Data"
      ],
      "metadata": {
        "id": "Yj_k79qDMRbQ"
      }
    },
    {
      "cell_type": "markdown",
      "source": [
        "### 3.2 Classification\n",
        "\n",
        "Evaluate the Classification.\n",
        "\n",
        "1. Plot the Loss Curves\n",
        "2. Confusion Matrix\n",
        "3. Roc/Auc Scores"
      ],
      "metadata": {
        "id": "mJmK-5hLMtfZ"
      }
    },
    {
      "cell_type": "code",
      "source": [
        "# whether to run this cell or not\n",
        "classification_task = True\n",
        "\n",
        "if classification_task:\n",
        "  pass"
      ],
      "metadata": {
        "id": "QqlkTyURMRhs"
      },
      "execution_count": null,
      "outputs": []
    },
    {
      "cell_type": "markdown",
      "source": [
        "### 4. Making Final predictions\n",
        "\n",
        "1. Get and transform the Data\n",
        "2. Make the predictions\n",
        "3. Convert the numerical predictions to human readable outputs"
      ],
      "metadata": {
        "id": "3pA7cEYCIbpE"
      }
    },
    {
      "cell_type": "code",
      "source": [
        "# get and transform the data"
      ],
      "metadata": {
        "id": "2OgNkmItIb5A"
      },
      "execution_count": null,
      "outputs": []
    },
    {
      "cell_type": "code",
      "source": [
        "# make the predictions\n",
        "predictions = make_predictions(X=\"\", model=\"\", device=device)"
      ],
      "metadata": {
        "id": "AfiKI-82Ksuk"
      },
      "execution_count": null,
      "outputs": []
    },
    {
      "cell_type": "code",
      "source": [
        "# convert predictions (numerical) to prediction labels"
      ],
      "metadata": {
        "id": "g3MMcOTKKtTp"
      },
      "execution_count": null,
      "outputs": []
    },
    {
      "cell_type": "markdown",
      "source": [
        "### 5. Saving and loading a model"
      ],
      "metadata": {
        "id": "j_91IG8qH4qc"
      }
    },
    {
      "cell_type": "code",
      "source": [
        "# create directory models if it doesn't exist\n",
        "MODEL_PATH = Path(\"models\")\n",
        "MODEL_PATH.mkdir(parents=True, exit_ok = True)\n",
        "\n",
        "# name the model\n",
        "MODEL_NAME = \"model.pth\"\n",
        "\n",
        "# create the model path\n",
        "MODEL_SAVE_PATH = MODEL_PATH / MODEL_NAME"
      ],
      "metadata": {
        "id": "OSNpfx0DJEEH"
      },
      "execution_count": null,
      "outputs": []
    },
    {
      "cell_type": "markdown",
      "source": [
        "### 5.1 Save the model\n"
      ],
      "metadata": {
        "id": "2cjgDKbjH40n"
      }
    },
    {
      "cell_type": "code",
      "source": [
        "# save the sate dict of your trained model(recommended)\n",
        "save_model(model, MODEL_SAVE_PATH)"
      ],
      "metadata": {
        "id": "3JvB4uUhILfP"
      },
      "execution_count": null,
      "outputs": []
    },
    {
      "cell_type": "markdown",
      "source": [
        "### 5.2 Load the model\n",
        "\n",
        "If you save just the parameters of the model and not the entire model, we have to create a new instance of your model class and load the saved stat_dict() into the new model"
      ],
      "metadata": {
        "id": "ACrV8lpMIsWY"
      }
    },
    {
      "cell_type": "code",
      "source": [
        "# create an instance of the new model\n",
        "model = \"\"\n",
        "\n",
        "# load the saved sate dict in the model\n",
        "model = load_model(model, MODEL_SAVE_PATH)"
      ],
      "metadata": {
        "id": "9eSusvQZIz6h"
      },
      "execution_count": null,
      "outputs": []
    }
  ]
}