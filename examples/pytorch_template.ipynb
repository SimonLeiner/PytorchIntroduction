{
  "cells": [
    {
      "cell_type": "markdown",
      "metadata": {
        "id": "ijakQ0TfEhqP"
      },
      "source": [
        "# Pytorch Template"
      ]
    },
    {
      "cell_type": "code",
      "execution_count": null,
      "metadata": {
        "colab": {
          "base_uri": "https://localhost:8080/"
        },
        "id": "LReEUhW0EeZP",
        "outputId": "54507b58-9161-4572-a426-bbc56d09eedd"
      },
      "outputs": [
        {
          "name": "stdout",
          "output_type": "stream",
          "text": [
            "Looking in indexes: https://pypi.org/simple, https://us-python.pkg.dev/colab-wheels/public/simple/\n",
            "Requirement already satisfied: torchinfo in /usr/local/lib/python3.10/dist-packages (1.8.0)\n"
          ]
        }
      ],
      "source": [
        "# pytorch\n",
        "import torch\n",
        "from torch import nn\n",
        "\n",
        "# torchinfo\n",
        "%pip install torchinfo\n",
        "from torchinfo import summary\n",
        "\n",
        "# torchvision (For Picture and Video Tasks)\n",
        "import torchvision\n",
        "\n",
        "# standard data handling\n",
        "import pandas as pd\n",
        "import numpy as np\n",
        "\n",
        "# plotting\n",
        "import matplotlib.pyplot as plt\n",
        "import seaborn as sns\n",
        "\n",
        "# machine learning\n",
        "import sklearn\n",
        "from sklearn.model_selection import train_test_split\n",
        "\n",
        "# system\n",
        "from pathlib import Path\n",
        "from timeit import default_timer as timer\n",
        "import requests"
      ]
    },
    {
      "cell_type": "markdown",
      "metadata": {
        "id": "3dBWIFpFFBHv"
      },
      "source": [
        "### Check the available pytorch and Cuda (GPU) Version"
      ]
    },
    {
      "cell_type": "code",
      "execution_count": null,
      "metadata": {
        "colab": {
          "base_uri": "https://localhost:8080/"
        },
        "id": "05sFxzsbE64c",
        "outputId": "1a6beef2-cf23-4082-87ab-b420c378af50"
      },
      "outputs": [
        {
          "name": "stdout",
          "output_type": "stream",
          "text": [
            " Pytorch and cuda version: 2.0.1+cu118\n",
            " Torchvision and cuda version: 0.15.2+cu118\n"
          ]
        }
      ],
      "source": [
        "# pytroch and cuda version\n",
        "print(f\" Pytorch and cuda version: {torch.__version__}\")\n",
        "\n",
        "# trochvision and cuda version\n",
        "print(f\" Torchvision and cuda version: {torchvision.__version__}\")"
      ]
    },
    {
      "cell_type": "markdown",
      "metadata": {
        "id": "gFA1DwgMFSQe"
      },
      "source": [
        "### Check the available device\n",
        "\n",
        "1. CPU (Default)\n",
        "2. Cuda (GPU acceleration is accessible)"
      ]
    },
    {
      "cell_type": "code",
      "execution_count": null,
      "metadata": {
        "colab": {
          "base_uri": "https://localhost:8080/"
        },
        "id": "hxrucJHYFTgV",
        "outputId": "9c5093d6-944d-46da-9ab5-c5933014b2b2"
      },
      "outputs": [
        {
          "name": "stdout",
          "output_type": "stream",
          "text": [
            "Available device is: cuda\n"
          ]
        }
      ],
      "source": [
        "# make device agnostic code (default is cpu)\n",
        "device = \"cuda\" if torch.cuda.is_available() else \"cpu\"\n",
        "print(f\"Available device is: {device}\")"
      ]
    },
    {
      "cell_type": "markdown",
      "metadata": {
        "id": "seOY5MvOxmRa"
      },
      "source": [
        "### Import Helper files"
      ]
    },
    {
      "cell_type": "code",
      "execution_count": null,
      "metadata": {
        "colab": {
          "base_uri": "https://localhost:8080/"
        },
        "id": "9f5IN-Wgxm9u",
        "outputId": "2ad94fb3-4708-4018-bbc1-56af2212d7e4"
      },
      "outputs": [
        {
          "name": "stdout",
          "output_type": "stream",
          "text": [
            "pytorch_helper_functions.py already exists. Skipping download\n",
            "training.py already exists. Skipping download\n"
          ]
        }
      ],
      "source": [
        "# filenames\n",
        "filenames = {\"pytorch_helper_functions.py\": \"https://raw.githubusercontent.com/sl2000stat/PytorchIntroduction/master/pytorch_helper_functions.py\",\n",
        "             \"training.py\": \"https://raw.githubusercontent.com/sl2000stat/PytorchIntroduction/master/training.py\",\n",
        "             \"make_predictions.py\":\"https://raw.githubusercontent.com/sl2000stat/PytorchIntroduction/master/make_predictions.py\",\n",
        "             \"validation.py\":\"https://raw.githubusercontent.com/sl2000stat/PytorchIntroduction/master/validation.py\"}\n",
        "\n",
        "for filename, file_path in filenames.items():\n",
        "\n",
        "  # download helper functions from repo\n",
        "  if Path(filename).is_file():\n",
        "    print(f\"{filename} already exists. Skipping download\")\n",
        "\n",
        "  else:\n",
        "\n",
        "    request = requests.get(file_path)\n",
        "    with open(filename, \"wb\") as f:\n",
        "      f.write(request.content)\n",
        "\n",
        "    print(f\"Downloaded {filename}.\")"
      ]
    },
    {
      "cell_type": "code",
      "execution_count": null,
      "metadata": {
        "id": "GJdoMQiKzI7X"
      },
      "outputs": [],
      "source": [
        "# import functions from your own python scripts\n",
        "from pytorch_helper_functions import set_global_seed, print_train_time, save_model, load_model\n",
        "from training import training\n",
        "from make_predictions import make_predictions"
      ]
    },
    {
      "cell_type": "code",
      "execution_count": null,
      "metadata": {
        "id": "aS-R9WlW3d4p"
      },
      "outputs": [],
      "source": [
        "# set the global seed\n",
        "set_global_seed(42)"
      ]
    },
    {
      "cell_type": "markdown",
      "metadata": {
        "id": "Vv6MijmoFlZN"
      },
      "source": [
        "### General Pytorch Workflow\n",
        "\n",
        "![](https://raw.githubusercontent.com/mrdbourke/pytorch-deep-learning/main/images/01_a_pytorch_workflow.png)\n",
        "\n",
        "1. **Getting data ready:** Data can be almost anything but to get started we're going to create a simple straight line\n",
        "2. **Building a model:**\tHere we'll create a model to learn patterns in the data, we'll also choose a loss function, optimizer and build a training loop.\n",
        "3. **Fitting the model to data (training):** We've got data and a model, now let's let the model (try to) find patterns in the (training) data.\n",
        "4. **Making predictions and evaluating a model (inference):**\tOur model's found patterns in the data, let's compare its findings to the actual (testing) data.\n",
        "5. **Tune the model:**\tFine tune the hyperparameter and select the optimal model.\n",
        "6. **Saving and loading a model:**\tYou may want to use your model elsewhere, or come back to it later, here we'll cover that.\n"
      ]
    },
    {
      "cell_type": "markdown",
      "metadata": {
        "id": "ySooWdBJFl3I"
      },
      "source": [
        "### 1. Get the Data\n",
        "\n",
        "1. Download the Data\n",
        "2. Explore the Data\n"
      ]
    },
    {
      "cell_type": "markdown",
      "metadata": {
        "id": "0lBUu8yp9ZRq"
      },
      "source": [
        "### 1.1 Download the data\n",
        "\n",
        "Dowload the zip data and extract it into a google colab folder"
      ]
    },
    {
      "cell_type": "code",
      "execution_count": null,
      "metadata": {
        "id": "4JHCou6W9Zc_"
      },
      "outputs": [],
      "source": [
        "# setup path to data folder\n",
        "data_path = Path(\"data/\")\n",
        "image_path = data_path / \"filename\"\n",
        "\n",
        "# If the image folder doesn't exist, download it and prepare it\n",
        "if image_path.is_dir():\n",
        "    print(f\"{image_path} directory already exists.\")\n",
        "else:\n",
        "    print(f\"Did not find {image_path} directory, creating one.\")\n",
        "    image_path.mkdir(parents=True, exist_ok=True)\n",
        "\n",
        "    # Download pizza, steak, sushi data\n",
        "    with open(data_path / \"filename.zip\", \"wb\") as f:\n",
        "        request = requests.get(\"githubrawfile\")\n",
        "        print(\"Downloading the data.\")\n",
        "        f.write(request.content)\n",
        "\n",
        "    # Unzip pizza, steak, sushi data\n",
        "    with zipfile.ZipFile(data_path / \"filename.zip\", \"r\") as zip_ref:\n",
        "        print(\"Unzipping the data.\")\n",
        "        zip_ref.extractall(image_path)"
      ]
    },
    {
      "cell_type": "markdown",
      "metadata": {
        "id": "c7nLqgrxU6pv"
      },
      "source": [
        "### 1.2 Explore the Data\n",
        "\n",
        "Data Visualization, Preperation and Exploration"
      ]
    },
    {
      "cell_type": "code",
      "execution_count": null,
      "metadata": {
        "id": "QF7V8LFuVBDI"
      },
      "outputs": [],
      "source": []
    },
    {
      "cell_type": "markdown",
      "metadata": {
        "id": "cCOzp7T9xZu4"
      },
      "source": []
    },
    {
      "cell_type": "code",
      "execution_count": null,
      "metadata": {
        "id": "gekrTYjRO_51"
      },
      "outputs": [],
      "source": [
        "# How many samples are there?\n",
        "print(f\"Traning Samples {len(train_data)} | Validation Samples {len(val_data)}\")"
      ]
    },
    {
      "cell_type": "code",
      "execution_count": null,
      "metadata": {
        "id": "pHGMQH0KPlqL"
      },
      "outputs": [],
      "source": [
        "# classes\n",
        "class_names = train_data.classes\n",
        "print(f\"There are {len(class_names)} classes | {len(class_names)}\")"
      ]
    },
    {
      "cell_type": "markdown",
      "metadata": {
        "id": "umipEEdyN2ze"
      },
      "source": [
        "### 1.6 Create Mini Batches\n",
        "\n",
        "The DataLoader turns our data into a python iterable and allows us to divide the data into mini batches. (https://pytorch.org/tutorials/beginner/basics/data_tutorial.html)"
      ]
    },
    {
      "cell_type": "code",
      "execution_count": null,
      "metadata": {
        "id": "l7Fo2oV_N6iO"
      },
      "outputs": [],
      "source": [
        "# batch size hyperparameter\n",
        "BATCH_SIZE = 32\n",
        "\n",
        "# construct mini batches for the train and test data\n",
        "train_dataloader = DataLoader(training_data, batch_size=BATCH_SIZE, shuffle=True)\n",
        "val_dataloader = DataLoader(val_data, batch_size=BATCH_SIZE, shuffle=True)\n",
        "\n",
        "# check the dimensions\n",
        "print(f\"Length of the train DataLoader: {len(train_dataloader)} batches of {BATCH_SIZE}. (Orignially {len(training_data)})\")\n",
        "print(f\"Length of the test DataLoader: {len(val_dataloader)} batches of {BATCH_SIZE}.  (Orignially {len(val_data)})\")"
      ]
    },
    {
      "cell_type": "markdown",
      "metadata": {
        "id": "iMptlblwLXir"
      },
      "source": [
        "### 2. Build and train your model\n",
        "\n",
        "1. Build your own model or use an existing architecture\n",
        "1. Pick a loss function and optimizer\n",
        "3. Train the model and compute the train and validation scores"
      ]
    },
    {
      "cell_type": "markdown",
      "metadata": {
        "id": "MVvMl5boNaiL"
      },
      "source": [
        "### 2.1 Build your own model or use an existing architecture\n",
        "\n",
        "1. Build the model\n",
        "2. Create a model instance\n",
        "3. Check the Dimensions"
      ]
    },
    {
      "cell_type": "code",
      "execution_count": null,
      "metadata": {
        "id": "dh3e-gYDxR1O"
      },
      "outputs": [],
      "source": [
        "# build the model (start with a baseline model and increase the complexity or use an exisiting model architecture)\n",
        "class PytorchModel(nn.Module):\n",
        "  \"\"\"This is the Pytorch Model class. Since it inherits from nn.Module we have to override the forward() method\"\"\"\n",
        "\n",
        "  def __init__(self, input_shape:int,hidden_units:int,output_shape:int):\n",
        "    \"\"\"Constructor Initialization. Calls the super constructor and initializes our model.\"\"\"\n",
        "\n",
        "    # call the super constructor\n",
        "    super().__init__()\n",
        "\n",
        "    # create the model in several blocks\n",
        "\n",
        "    self.block_1 = nn.Sequential(\n",
        "        nn.Conv2d(in_channels=input_shape,out_channels=hidden_units, kernel_size=3,stride=1,padding=1),\n",
        "        nn.ReLU(),\n",
        "        nn.Conv2d(in_channels=hidden_units,out_channels=hidden_units, kernel_size=3,stride=1,padding=1),\n",
        "        nn.ReLU(),\n",
        "        nn.MaxPool2d(kernel_size=2, stride=2),\n",
        "    )\n",
        "\n",
        "\n",
        "    self.block_2 = nn.Sequential(\n",
        "        nn.Conv2d(in_channels=hidden_units,out_channels=hidden_units, kernel_size=3,stride=1,padding=1),\n",
        "        nn.ReLU(),\n",
        "        nn.Conv2d(in_channels=hidden_units,out_channels=hidden_units, kernel_size=3,stride=1,padding=1),\n",
        "        nn.ReLU(),\n",
        "        nn.MaxPool2d(kernel_size=2, stride=2),\n",
        "    )\n",
        "\n",
        "    self.fully_connceted_layer = nn.Sequential(\n",
        "        nn.Flatten(),\n",
        "        nn.Linear(in_features=490, out_features=output_shape),\n",
        "    )\n",
        "\n",
        "  def forward(self,X):\n",
        "    \"\"\"\n",
        "    This function is mandatory in each pytorch model and calculates the foward pass.\n",
        "\n",
        "    :param X: tensor: The X data\n",
        "    :return y: tensor: The y data (prediction)\n",
        "    \"\"\"\n",
        "\n",
        "    # perform the calculations\n",
        "    X = self.block_1(X)\n",
        "    # print(f\"Dimension of model output: {X.shape}\")\n",
        "    X = self.block_2(X)\n",
        "    # print(f\"Dimension of model output: {X.shape}\")\n",
        "    X = self.fully_connceted_layer(X)\n",
        "    # print(f\"Dimension of model output: {X.shape}\")\n",
        "\n",
        "    return X"
      ]
    },
    {
      "cell_type": "code",
      "execution_count": null,
      "metadata": {
        "colab": {
          "base_uri": "https://localhost:8080/",
          "height": 224
        },
        "id": "wAqXT0pjNme1",
        "outputId": "f5955c23-3d98-4f22-a6e6-2c9f60f84c7f"
      },
      "outputs": [
        {
          "ename": "AttributeError",
          "evalue": "ignored",
          "output_type": "error",
          "traceback": [
            "\u001b[0;31m---------------------------------------------------------------------------\u001b[0m",
            "\u001b[0;31mAttributeError\u001b[0m                            Traceback (most recent call last)",
            "\u001b[0;32m<ipython-input-20-99d07040ddc1>\u001b[0m in \u001b[0;36m<cell line: 5>\u001b[0;34m()\u001b[0m\n\u001b[1;32m      3\u001b[0m \u001b[0;34m\u001b[0m\u001b[0m\n\u001b[1;32m      4\u001b[0m \u001b[0;31m# send the model to the right device\u001b[0m\u001b[0;34m\u001b[0m\u001b[0;34m\u001b[0m\u001b[0m\n\u001b[0;32m----> 5\u001b[0;31m \u001b[0mmodel\u001b[0m \u001b[0;34m=\u001b[0m \u001b[0mmodel\u001b[0m\u001b[0;34m.\u001b[0m\u001b[0mto\u001b[0m\u001b[0;34m(\u001b[0m\u001b[0mdevice\u001b[0m\u001b[0;34m)\u001b[0m\u001b[0;34m\u001b[0m\u001b[0;34m\u001b[0m\u001b[0m\n\u001b[0m\u001b[1;32m      6\u001b[0m \u001b[0;34m\u001b[0m\u001b[0m\n\u001b[1;32m      7\u001b[0m \u001b[0;31m# print the model\u001b[0m\u001b[0;34m\u001b[0m\u001b[0;34m\u001b[0m\u001b[0m\n",
            "\u001b[0;31mAttributeError\u001b[0m: 'str' object has no attribute 'to'"
          ]
        }
      ],
      "source": [
        "# Create a model instance\n",
        "model = \"\"\n",
        "\n",
        "# send the model to the right device\n",
        "model = model.to(device)\n",
        "\n",
        "# print the model\n",
        "summary(model(),input_size=[])"
      ]
    },
    {
      "cell_type": "code",
      "execution_count": null,
      "metadata": {
        "id": "qkJ1JQkdiR2w"
      },
      "outputs": [],
      "source": [
        "# create a dummy tensor with the same dimensions as your data, add batch dimensiona nd send it to your device\n",
        "dummy_tensor = torch.randn(size=()).unsqueeze(0).to(device)\n",
        "\n",
        "# pass the data through your model\n",
        "X_dummy = model(dummy_tensor)"
      ]
    },
    {
      "cell_type": "markdown",
      "metadata": {
        "id": "9qsgtoGQKioq"
      },
      "source": [
        "### 2.2 Pick a loss function & optimizer\n",
        "\n",
        "1. Available loss functions: https://pytorch.org/docs/stable/nn.html#loss-functions\n",
        "2. Available optimizer: https://pytorch.org/docs/stable/optim.html#algorithms\n",
        "\n"
      ]
    },
    {
      "cell_type": "code",
      "execution_count": null,
      "metadata": {
        "id": "Zt1WozOmKixD"
      },
      "outputs": [],
      "source": [
        "# set up a loss function\n",
        "loss_function = \"\"\n",
        "\n",
        "# learning rate\n",
        "LEARNING_RATE = \"\"\n",
        "\n",
        "# setup an optimizer\n",
        "optimizer = \"\""
      ]
    },
    {
      "cell_type": "markdown",
      "metadata": {
        "id": "IoQqXKzBw-j7"
      },
      "source": [
        "### 2.3 Trainging and Validation Loop"
      ]
    },
    {
      "cell_type": "code",
      "execution_count": null,
      "metadata": {
        "id": "DN3Yo5J5y-eB"
      },
      "outputs": [],
      "source": [
        "# number of epochs\n",
        "EPOCHS = 3\n",
        "\n",
        "# timing\n",
        "train_time_start = timer()\n",
        "\n",
        "# train and valudation loop\n",
        "df_scores = training(EPOCHs=EPOCHS, model=\"\", train_dataloader=\"\",\n",
        "             val_dataloader=\"\", loss_function=loss_function\n",
        "             optimizer=optimizer, device=device)\n",
        "\n",
        "# calculate the training time\n",
        "train_time_end = timer()\n",
        "total_train_time = print_train_time(train_time_start, train_time_end, device=str(next(model.parameters()).device))"
      ]
    },
    {
      "cell_type": "markdown",
      "metadata": {
        "id": "Yj_k79qDMRbQ"
      },
      "source": [
        "### 3. Model Evaluation\n",
        "\n",
        "Depending on the loss function and model task there exist different evaluation methods\n",
        "\n",
        "1. Regression\n",
        "2. Classification\n",
        "3. Image/Video Classification/Detection\n",
        "4. Text Data"
      ]
    },
    {
      "cell_type": "markdown",
      "metadata": {
        "id": "mJmK-5hLMtfZ"
      },
      "source": [
        "### 3.2 Classification\n",
        "\n",
        "Evaluate the Classification.\n",
        "\n",
        "1. Plot the Loss Curves\n",
        "2. Confusion Matrix\n",
        "3. Roc/Auc Scores"
      ]
    },
    {
      "cell_type": "code",
      "execution_count": null,
      "metadata": {
        "id": "QqlkTyURMRhs"
      },
      "outputs": [],
      "source": [
        "# whether to run this cell or not\n",
        "classification_task = True\n",
        "\n",
        "if classification_task:\n",
        "  pass"
      ]
    },
    {
      "cell_type": "markdown",
      "metadata": {
        "id": "3pA7cEYCIbpE"
      },
      "source": [
        "### 4. Making Final predictions\n",
        "\n",
        "1. Get and transform the Data\n",
        "2. Make the predictions\n",
        "3. Convert the numerical predictions to human readable outputs"
      ]
    },
    {
      "cell_type": "code",
      "execution_count": null,
      "metadata": {
        "id": "2OgNkmItIb5A"
      },
      "outputs": [],
      "source": [
        "# get and transform the data"
      ]
    },
    {
      "cell_type": "code",
      "execution_count": null,
      "metadata": {
        "id": "AfiKI-82Ksuk"
      },
      "outputs": [],
      "source": [
        "# make the predictions\n",
        "predictions = make_predictions(X=\"\", model=\"\", device=device)"
      ]
    },
    {
      "cell_type": "code",
      "execution_count": null,
      "metadata": {
        "id": "g3MMcOTKKtTp"
      },
      "outputs": [],
      "source": [
        "# convert predictions (numerical) to prediction labels"
      ]
    },
    {
      "cell_type": "markdown",
      "metadata": {
        "id": "j_91IG8qH4qc"
      },
      "source": [
        "### 5. Saving and loading a model"
      ]
    },
    {
      "cell_type": "code",
      "execution_count": null,
      "metadata": {
        "id": "OSNpfx0DJEEH"
      },
      "outputs": [],
      "source": [
        "# create directory models if it doesn't exist\n",
        "MODEL_PATH = Path(\"models\")\n",
        "MODEL_PATH.mkdir(parents=True, exit_ok = True)\n",
        "\n",
        "# name the model\n",
        "MODEL_NAME = \"model.pth\"\n",
        "\n",
        "# create the model path\n",
        "MODEL_SAVE_PATH = MODEL_PATH / MODEL_NAME"
      ]
    },
    {
      "cell_type": "markdown",
      "metadata": {
        "id": "2cjgDKbjH40n"
      },
      "source": [
        "### 5.1 Save the model\n"
      ]
    },
    {
      "cell_type": "code",
      "execution_count": null,
      "metadata": {
        "id": "3JvB4uUhILfP"
      },
      "outputs": [],
      "source": [
        "# save the sate dict of your trained model(recommended)\n",
        "save_model(model, MODEL_SAVE_PATH)"
      ]
    },
    {
      "cell_type": "markdown",
      "metadata": {
        "id": "ACrV8lpMIsWY"
      },
      "source": [
        "### 5.2 Load the model\n",
        "\n",
        "If you save just the parameters of the model and not the entire model, we have to create a new instance of your model class and load the saved stat_dict() into the new model"
      ]
    },
    {
      "cell_type": "code",
      "execution_count": null,
      "metadata": {
        "id": "9eSusvQZIz6h"
      },
      "outputs": [],
      "source": [
        "# create an instance of the new model\n",
        "model = \"\"\n",
        "\n",
        "# load the saved sate dict in the model\n",
        "model = load_model(model, MODEL_SAVE_PATH)"
      ]
    }
  ],
  "metadata": {
    "accelerator": "GPU",
    "colab": {
      "gpuType": "T4",
      "provenance": []
    },
    "gpuClass": "standard",
    "kernelspec": {
      "display_name": "Python 3",
      "name": "python3"
    },
    "language_info": {
      "name": "python"
    }
  },
  "nbformat": 4,
  "nbformat_minor": 0
}
