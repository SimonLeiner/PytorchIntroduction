{
  "cells": [
    {
      "cell_type": "markdown",
      "metadata": {
        "id": "wK0SijlcbN-5"
      },
      "source": [
        "# Simple Pytorch Workflow\n"
      ]
    },
    {
      "cell_type": "code",
      "execution_count": null,
      "metadata": {
        "colab": {
          "base_uri": "https://localhost:8080/"
        },
        "id": "ANt9I9P0-Zxs",
        "outputId": "ca29cbcc-7a85-4467-f4e0-288b768c8161"
      },
      "outputs": [
        {
          "name": "stdout",
          "output_type": "stream",
          "text": [
            "2.0.1+cu118\n"
          ]
        }
      ],
      "source": [
        "import pandas as pd\n",
        "import torch\n",
        "from torch import nn\n",
        "\n",
        "\n",
        "# pytroch and cuda version\n",
        "print(torch.__version__)"
      ]
    },
    {
      "cell_type": "markdown",
      "metadata": {
        "id": "cdWjFHfYbag-"
      },
      "source": [
        "#### 1. Get some Data\n"
      ]
    },
    {
      "cell_type": "code",
      "execution_count": null,
      "metadata": {
        "colab": {
          "base_uri": "https://localhost:8080/"
        },
        "id": "9IUTUeArb269",
        "outputId": "76605ba9-f321-493d-d946-272ba6524d7b"
      },
      "outputs": [
        {
          "data": {
            "text/plain": [
              "array([[ 0.75424625,  0.23148074],\n",
              "       [-0.75615888,  0.15325888],\n",
              "       [-0.81539193,  0.17328203],\n",
              "       [-0.39373073,  0.69288277],\n",
              "       [ 0.44220765, -0.89672343]])"
            ]
          },
          "execution_count": 2,
          "metadata": {},
          "output_type": "execute_result"
        }
      ],
      "source": [
        "from sklearn.datasets import make_circles\n",
        "\n",
        "\n",
        "# make 1000 smaples\n",
        "n_samples = 1000\n",
        "\n",
        "# create circles\n",
        "X, y = make_circles(n_samples=n_samples, noise=0.03, random_state=42)\n",
        "X[:5]"
      ]
    },
    {
      "cell_type": "markdown",
      "metadata": {
        "id": "vjc5j1AIct9W"
      },
      "source": [
        "#### 2. Data Exploration with Pandas\n"
      ]
    },
    {
      "cell_type": "code",
      "execution_count": null,
      "metadata": {
        "colab": {
          "base_uri": "https://localhost:8080/",
          "height": 204
        },
        "id": "7qJA-gttcy8D",
        "outputId": "a941a0ce-dcee-490b-d758-0cbd652e317a"
      },
      "outputs": [
        {
          "data": {
            "text/html": [
              "\n",
              "  <div id=\"df-dfaf8d2b-bbe8-4922-a51a-d256bb08ff58\">\n",
              "    <div class=\"colab-df-container\">\n",
              "      <div>\n",
              "<style scoped>\n",
              "    .dataframe tbody tr th:only-of-type {\n",
              "        vertical-align: middle;\n",
              "    }\n",
              "\n",
              "    .dataframe tbody tr th {\n",
              "        vertical-align: top;\n",
              "    }\n",
              "\n",
              "    .dataframe thead th {\n",
              "        text-align: right;\n",
              "    }\n",
              "</style>\n",
              "<table border=\"1\" class=\"dataframe\">\n",
              "  <thead>\n",
              "    <tr style=\"text-align: right;\">\n",
              "      <th></th>\n",
              "      <th>X1</th>\n",
              "      <th>X2</th>\n",
              "      <th>y</th>\n",
              "    </tr>\n",
              "  </thead>\n",
              "  <tbody>\n",
              "    <tr>\n",
              "      <th>0</th>\n",
              "      <td>0.754246</td>\n",
              "      <td>0.231481</td>\n",
              "      <td>1</td>\n",
              "    </tr>\n",
              "    <tr>\n",
              "      <th>1</th>\n",
              "      <td>-0.756159</td>\n",
              "      <td>0.153259</td>\n",
              "      <td>1</td>\n",
              "    </tr>\n",
              "    <tr>\n",
              "      <th>2</th>\n",
              "      <td>-0.815392</td>\n",
              "      <td>0.173282</td>\n",
              "      <td>1</td>\n",
              "    </tr>\n",
              "    <tr>\n",
              "      <th>3</th>\n",
              "      <td>-0.393731</td>\n",
              "      <td>0.692883</td>\n",
              "      <td>1</td>\n",
              "    </tr>\n",
              "    <tr>\n",
              "      <th>4</th>\n",
              "      <td>0.442208</td>\n",
              "      <td>-0.896723</td>\n",
              "      <td>0</td>\n",
              "    </tr>\n",
              "  </tbody>\n",
              "</table>\n",
              "</div>\n",
              "      <button class=\"colab-df-convert\" onclick=\"convertToInteractive('df-dfaf8d2b-bbe8-4922-a51a-d256bb08ff58')\"\n",
              "              title=\"Convert this dataframe to an interactive table.\"\n",
              "              style=\"display:none;\">\n",
              "        \n",
              "  <svg xmlns=\"http://www.w3.org/2000/svg\" height=\"24px\"viewBox=\"0 0 24 24\"\n",
              "       width=\"24px\">\n",
              "    <path d=\"M0 0h24v24H0V0z\" fill=\"none\"/>\n",
              "    <path d=\"M18.56 5.44l.94 2.06.94-2.06 2.06-.94-2.06-.94-.94-2.06-.94 2.06-2.06.94zm-11 1L8.5 8.5l.94-2.06 2.06-.94-2.06-.94L8.5 2.5l-.94 2.06-2.06.94zm10 10l.94 2.06.94-2.06 2.06-.94-2.06-.94-.94-2.06-.94 2.06-2.06.94z\"/><path d=\"M17.41 7.96l-1.37-1.37c-.4-.4-.92-.59-1.43-.59-.52 0-1.04.2-1.43.59L10.3 9.45l-7.72 7.72c-.78.78-.78 2.05 0 2.83L4 21.41c.39.39.9.59 1.41.59.51 0 1.02-.2 1.41-.59l7.78-7.78 2.81-2.81c.8-.78.8-2.07 0-2.86zM5.41 20L4 18.59l7.72-7.72 1.47 1.35L5.41 20z\"/>\n",
              "  </svg>\n",
              "      </button>\n",
              "      \n",
              "  <style>\n",
              "    .colab-df-container {\n",
              "      display:flex;\n",
              "      flex-wrap:wrap;\n",
              "      gap: 12px;\n",
              "    }\n",
              "\n",
              "    .colab-df-convert {\n",
              "      background-color: #E8F0FE;\n",
              "      border: none;\n",
              "      border-radius: 50%;\n",
              "      cursor: pointer;\n",
              "      display: none;\n",
              "      fill: #1967D2;\n",
              "      height: 32px;\n",
              "      padding: 0 0 0 0;\n",
              "      width: 32px;\n",
              "    }\n",
              "\n",
              "    .colab-df-convert:hover {\n",
              "      background-color: #E2EBFA;\n",
              "      box-shadow: 0px 1px 2px rgba(60, 64, 67, 0.3), 0px 1px 3px 1px rgba(60, 64, 67, 0.15);\n",
              "      fill: #174EA6;\n",
              "    }\n",
              "\n",
              "    [theme=dark] .colab-df-convert {\n",
              "      background-color: #3B4455;\n",
              "      fill: #D2E3FC;\n",
              "    }\n",
              "\n",
              "    [theme=dark] .colab-df-convert:hover {\n",
              "      background-color: #434B5C;\n",
              "      box-shadow: 0px 1px 3px 1px rgba(0, 0, 0, 0.15);\n",
              "      filter: drop-shadow(0px 1px 2px rgba(0, 0, 0, 0.3));\n",
              "      fill: #FFFFFF;\n",
              "    }\n",
              "  </style>\n",
              "\n",
              "      <script>\n",
              "        const buttonEl =\n",
              "          document.querySelector('#df-dfaf8d2b-bbe8-4922-a51a-d256bb08ff58 button.colab-df-convert');\n",
              "        buttonEl.style.display =\n",
              "          google.colab.kernel.accessAllowed ? 'block' : 'none';\n",
              "\n",
              "        async function convertToInteractive(key) {\n",
              "          const element = document.querySelector('#df-dfaf8d2b-bbe8-4922-a51a-d256bb08ff58');\n",
              "          const dataTable =\n",
              "            await google.colab.kernel.invokeFunction('convertToInteractive',\n",
              "                                                     [key], {});\n",
              "          if (!dataTable) return;\n",
              "\n",
              "          const docLinkHtml = 'Like what you see? Visit the ' +\n",
              "            '<a target=\"_blank\" href=https://colab.research.google.com/notebooks/data_table.ipynb>data table notebook</a>'\n",
              "            + ' to learn more about interactive tables.';\n",
              "          element.innerHTML = '';\n",
              "          dataTable['output_type'] = 'display_data';\n",
              "          await google.colab.output.renderOutput(dataTable, element);\n",
              "          const docLink = document.createElement('div');\n",
              "          docLink.innerHTML = docLinkHtml;\n",
              "          element.appendChild(docLink);\n",
              "        }\n",
              "      </script>\n",
              "    </div>\n",
              "  </div>\n",
              "  "
            ],
            "text/plain": [
              "         X1        X2  y\n",
              "0  0.754246  0.231481  1\n",
              "1 -0.756159  0.153259  1\n",
              "2 -0.815392  0.173282  1\n",
              "3 -0.393731  0.692883  1\n",
              "4  0.442208 -0.896723  0"
            ]
          },
          "execution_count": 3,
          "metadata": {},
          "output_type": "execute_result"
        }
      ],
      "source": [
        "pd_circles = pd.DataFrame({\"X1\": X[:, 0], \"X2\": X[:, 1], \"y\": y})\n",
        "pd_circles.head()"
      ]
    },
    {
      "cell_type": "markdown",
      "metadata": {
        "id": "Rs3MduNUdQRt"
      },
      "source": [
        "#### 3. Check Input and Output shapes\n"
      ]
    },
    {
      "cell_type": "code",
      "execution_count": null,
      "metadata": {
        "colab": {
          "base_uri": "https://localhost:8080/"
        },
        "id": "mMbFjgC5du7v",
        "outputId": "7e386b95-ba2f-4d87-ec64-090766bc6188"
      },
      "outputs": [
        {
          "data": {
            "text/plain": [
              "((1000, 2), (1000,))"
            ]
          },
          "execution_count": 4,
          "metadata": {},
          "output_type": "execute_result"
        }
      ],
      "source": [
        "X.shape, y.shape"
      ]
    },
    {
      "cell_type": "markdown",
      "metadata": {
        "id": "RV6AFQ1Od4oe"
      },
      "source": [
        "##### 3.1 Convert data into tensors and create train and test splits\n"
      ]
    },
    {
      "cell_type": "code",
      "execution_count": null,
      "metadata": {
        "colab": {
          "base_uri": "https://localhost:8080/"
        },
        "id": "hp1JNkeNd8Lb",
        "outputId": "d7bf8f4d-3ab9-4f2f-e152-6073e508072b"
      },
      "outputs": [
        {
          "data": {
            "text/plain": [
              "tensor([[ 0.6830,  0.4601],\n",
              "        [ 0.7428,  0.2660],\n",
              "        [ 0.1630,  0.7798],\n",
              "        ...,\n",
              "        [ 0.0157, -1.0300],\n",
              "        [ 1.0110,  0.1680],\n",
              "        [ 0.5578, -0.5709]])"
            ]
          },
          "execution_count": 5,
          "metadata": {},
          "output_type": "execute_result"
        }
      ],
      "source": [
        "# numpy is default float64 and pytorch float32\n",
        "X = torch.from_numpy(X).type(torch.float)\n",
        "y = torch.from_numpy(y).type(torch.float)\n",
        "\n",
        "from sklearn.model_selection import train_test_split\n",
        "\n",
        "\n",
        "X_train, X_test, y_train, y_test = train_test_split(\n",
        "    X,\n",
        "    y,\n",
        "    test_size=0.33,\n",
        "    random_state=42,\n",
        ")\n",
        "X_train"
      ]
    },
    {
      "cell_type": "markdown",
      "metadata": {
        "id": "hKkvRfclfkmC"
      },
      "source": [
        "#### 4. Building a Model\n",
        "\n",
        "Let's build a model to classify our data. To do so we want to:\n",
        "\n",
        "1. set up device agnostic code (Code run on GPU)\n",
        "2. Construct a Model (by subclassing nn.Module)\n",
        "3. Define a loss function and optimizer\n",
        "4. create a training and test loop\n"
      ]
    },
    {
      "cell_type": "code",
      "execution_count": null,
      "metadata": {
        "colab": {
          "base_uri": "https://localhost:8080/",
          "height": 35
        },
        "id": "UAKpL4_MgCgM",
        "outputId": "4e2accea-9539-49ac-f50a-ad539210f328"
      },
      "outputs": [
        {
          "data": {
            "application/vnd.google.colaboratory.intrinsic+json": {
              "type": "string"
            },
            "text/plain": [
              "'cuda'"
            ]
          },
          "execution_count": 6,
          "metadata": {},
          "output_type": "execute_result"
        }
      ],
      "source": [
        "# make device agnostic code (default is cpu)\n",
        "device = \"cuda\" if torch.cuda.is_available() else \"cpu\"\n",
        "device"
      ]
    },
    {
      "cell_type": "code",
      "execution_count": null,
      "metadata": {
        "id": "ao6YIJMefnJN"
      },
      "outputs": [],
      "source": [
        "# create the model\n",
        "class CircleModel(nn.Module):\n",
        "    def __init__(self):\n",
        "        super().__init__()\n",
        "\n",
        "        # building the network\n",
        "        self.input_layer = nn.Linear(in_features=2, out_features=1)\n",
        "        self.softmax = nn.Softmax(dim=1)\n",
        "\n",
        "    def forward(self, X):\n",
        "        X = self.input_layer(X)\n",
        "        X = self.softmax(X)\n",
        "        return X\n"
      ]
    },
    {
      "cell_type": "code",
      "execution_count": null,
      "metadata": {
        "colab": {
          "base_uri": "https://localhost:8080/"
        },
        "id": "cvYiRI9ZIr2I",
        "outputId": "10adafb9-618c-4acd-d65e-b458c4310433"
      },
      "outputs": [
        {
          "data": {
            "text/plain": [
              "CircleModel(\n",
              "  (input_layer): Linear(in_features=2, out_features=1, bias=True)\n",
              "  (softmax): Softmax(dim=1)\n",
              ")"
            ]
          },
          "execution_count": 8,
          "metadata": {},
          "output_type": "execute_result"
        }
      ],
      "source": [
        "# initiante the model and send it to the target device\n",
        "model = CircleModel().to(device)\n",
        "model\n",
        "\n",
        "# check if model parameters are on cuda device\n",
        "# next(model.parameters()).device"
      ]
    },
    {
      "cell_type": "markdown",
      "metadata": {
        "id": "-me2crB9JJRl"
      },
      "source": [
        "Can also replicate the model with `nn.Sequential()`\n"
      ]
    },
    {
      "cell_type": "code",
      "execution_count": null,
      "metadata": {
        "colab": {
          "base_uri": "https://localhost:8080/"
        },
        "id": "4qgh7K0L9oPE",
        "outputId": "8eb61dd5-c28a-4119-f279-df2f4b025048"
      },
      "outputs": [
        {
          "data": {
            "text/plain": [
              "OrderedDict([('0.weight', tensor([[0.1200, 0.0983]], device='cuda:0')),\n",
              "             ('0.bias', tensor([-0.6467], device='cuda:0'))])"
            ]
          },
          "execution_count": 9,
          "metadata": {},
          "output_type": "execute_result"
        }
      ],
      "source": [
        "# create a sequential model\n",
        "model = nn.Sequential(\n",
        "    nn.Linear(in_features=2, out_features=1),\n",
        "    nn.Softmax(dim=1),\n",
        ").to(device)\n",
        "\n",
        "# get the model\n",
        "model\n",
        "\n",
        "# get the important model parameter\n",
        "model.state_dict()"
      ]
    },
    {
      "cell_type": "markdown",
      "metadata": {
        "id": "KE8i0597C685"
      },
      "source": [
        "#### 5. Pick a Loss Function and Optimizer\n"
      ]
    },
    {
      "cell_type": "code",
      "execution_count": null,
      "metadata": {
        "id": "qbrhNuzbAjgt"
      },
      "outputs": [],
      "source": [
        "# Pick a Loss Function and Optimizer\n",
        "loss_function = nn.BCELoss()\n",
        "optimizer = torch.optim.Adam(params=model.parameters(), lr=0.1)"
      ]
    },
    {
      "cell_type": "markdown",
      "metadata": {
        "id": "quP-BfU1C19x"
      },
      "source": [
        "#### 6. Train the model (training loop)\n"
      ]
    },
    {
      "cell_type": "code",
      "execution_count": null,
      "metadata": {
        "id": "EvDfNw3gDCAw"
      },
      "outputs": [],
      "source": [
        "# 1. foward pass\n",
        "# 2. calculate the loss\n",
        "# 3 optim zero grad\n",
        "# 4. Backpropagation\n",
        "# 5. optimizer step"
      ]
    },
    {
      "cell_type": "code",
      "execution_count": null,
      "metadata": {
        "colab": {
          "base_uri": "https://localhost:8080/"
        },
        "id": "osTV_ga6u-_0",
        "outputId": "1503f09e-fec7-4942-85c4-11aa70dd4159"
      },
      "outputs": [
        {
          "name": "stdout",
          "output_type": "stream",
          "text": [
            "0 52.727272033691406\n",
            "10 52.727272033691406\n",
            "20 52.727272033691406\n",
            "30 52.727272033691406\n",
            "40 52.727272033691406\n",
            "50 52.727272033691406\n",
            "60 52.727272033691406\n",
            "70 52.727272033691406\n",
            "80 52.727272033691406\n",
            "90 52.727272033691406\n"
          ]
        }
      ],
      "source": [
        "# reproducability\n",
        "torch.manual_seed(42)\n",
        "torch.cuda.manual_seed(42)\n",
        "\n",
        "# number of epochs\n",
        "epochs = 100\n",
        "\n",
        "# put the data to the target device\n",
        "X_train, X_test, y_train, y_test = (\n",
        "    X_train.to(device),\n",
        "    X_test.to(device),\n",
        "    y_train.to(device),\n",
        "    y_test.to(device),\n",
        ")\n",
        "\n",
        "# save values\n",
        "\n",
        "# training and evaluation loop\n",
        "for epoch in range(epochs):\n",
        "    # set model to training mode\n",
        "    model.train()\n",
        "\n",
        "    # forward pass\n",
        "    y_pred = model(X_train).squeeze()\n",
        "\n",
        "    # calculate the loss\n",
        "    loss = loss_function(y_pred, y_train)\n",
        "\n",
        "    # set gradient zero (initialise gradient between the epoch runs)\n",
        "    optimizer.zero_grad()\n",
        "\n",
        "    # backpropagation\n",
        "    loss.backward()\n",
        "\n",
        "    # update the parameters\n",
        "    optimizer.step()\n",
        "\n",
        "    # testing mode\n",
        "    model.eval()\n",
        "\n",
        "    # turn of gradient tracking\n",
        "    with torch.inference_mode():\n",
        "        # forward pass\n",
        "        y_pred = model(X_test).squeeze()\n",
        "\n",
        "        # calculate the test loss\n",
        "        loss = loss_function(y_pred, y_test)\n",
        "\n",
        "    # printing every 10 epochs\n",
        "    if epoch % 10 == 0:\n",
        "        print(f\"{epoch} {loss}\")\n"
      ]
    },
    {
      "cell_type": "markdown",
      "metadata": {
        "id": "B51pQy0M-kUM"
      },
      "source": [
        "#### 7. Make predictions and evaluate the model (Visualization)\n"
      ]
    },
    {
      "cell_type": "code",
      "execution_count": null,
      "metadata": {
        "id": "QjDTSlXq-vEz"
      },
      "outputs": [],
      "source": [
        "# make predictions\n",
        "with torch.inference_mode():\n",
        "    y_pred = model(X_test.to(device))\n",
        "y_pred[:10]\n"
      ]
    }
  ],
  "metadata": {
    "accelerator": "GPU",
    "colab": {
      "gpuType": "T4",
      "provenance": []
    },
    "gpuClass": "standard",
    "kernelspec": {
      "display_name": "Python 3",
      "name": "python3"
    },
    "language_info": {
      "name": "python"
    }
  },
  "nbformat": 4,
  "nbformat_minor": 0
}
